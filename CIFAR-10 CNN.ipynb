{
  "cells": [
    {
      "cell_type": "markdown",
      "metadata": {
        "id": "7hFt7OAlOTC5"
      },
      "source": [
        "# CNN on CIFAR-10\n",
        "**This notebook: [see on github](https://github.com/drinkingkazu/2019-06-17-NeuralNets/blob/master/CIFAR-10%20CNN.ipynb) or [run it on google colab](https://colab.research.google.com/github/drinkingkazu/2019-06-17-NeuralNets/blob/master/CIFAR-10%20CNN.ipynb)**.\n",
        "\n",
        "This notebook trains CNN on CIFAR-10 dataset, 10 object classification in 32x32 pixels images with 3 channels."
      ]
    },
    {
      "cell_type": "code",
      "source": [
        "import torch"
      ],
      "metadata": {
        "id": "_Bsn4zXpOjZ-"
      },
      "execution_count": 1,
      "outputs": []
    },
    {
      "cell_type": "code",
      "source": [],
      "metadata": {
        "id": "hyE_NrMBO8RU"
      },
      "execution_count": null,
      "outputs": []
    }
  ],
  "metadata": {
    "kernelspec": {
      "display_name": "Python 3",
      "language": "python",
      "name": "python3"
    },
    "language_info": {
      "codemirror_mode": {
        "name": "ipython",
        "version": 3
      },
      "file_extension": ".py",
      "mimetype": "text/x-python",
      "name": "python",
      "nbconvert_exporter": "python",
      "pygments_lexer": "ipython3",
      "version": "3.6.7"
    },
    "colab": {
      "provenance": []
    }
  },
  "nbformat": 4,
  "nbformat_minor": 0
}